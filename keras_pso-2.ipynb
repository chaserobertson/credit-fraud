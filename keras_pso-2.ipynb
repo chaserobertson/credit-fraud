{
 "cells": [
  {
   "cell_type": "markdown",
   "metadata": {
    "colab_type": "text",
    "id": "view-in-github"
   },
   "source": [
    "<a href=\"https://colab.research.google.com/github/chaserobertson/credit-fraud/blob/main/keras_pso.ipynb\" target=\"_parent\"><img src=\"https://colab.research.google.com/assets/colab-badge.svg\" alt=\"Open In Colab\"/></a>"
   ]
  },
  {
   "cell_type": "code",
   "execution_count": 1,
   "metadata": {
    "colab": {
     "base_uri": "https://localhost:8080/"
    },
    "id": "TI0FbmxJZbuy",
    "outputId": "e91bd88f-0f12-41e2-bd6d-d19265030fdd"
   },
   "outputs": [
    {
     "name": "stdout",
     "output_type": "stream",
     "text": [
      "Requirement already satisfied: mealpy in /Users/chase/opt/miniconda3/lib/python3.9/site-packages (2.5.0)\n",
      "Requirement already satisfied: numpy>=1.16.5 in /Users/chase/opt/miniconda3/lib/python3.9/site-packages (from mealpy) (1.21.5)\n",
      "Requirement already satisfied: matplotlib>=3.1.3 in /Users/chase/opt/miniconda3/lib/python3.9/site-packages (from mealpy) (3.5.1)\n",
      "Requirement already satisfied: opfunu>=1.0.0 in /Users/chase/opt/miniconda3/lib/python3.9/site-packages (from mealpy) (1.0.0)\n",
      "Requirement already satisfied: scipy>=1.7.1 in /Users/chase/opt/miniconda3/lib/python3.9/site-packages (from mealpy) (1.7.3)\n",
      "Requirement already satisfied: python-dateutil>=2.7 in /Users/chase/opt/miniconda3/lib/python3.9/site-packages (from matplotlib>=3.1.3->mealpy) (2.8.2)\n",
      "Requirement already satisfied: cycler>=0.10 in /Users/chase/opt/miniconda3/lib/python3.9/site-packages (from matplotlib>=3.1.3->mealpy) (0.11.0)\n",
      "Requirement already satisfied: pyparsing>=2.2.1 in /Users/chase/opt/miniconda3/lib/python3.9/site-packages (from matplotlib>=3.1.3->mealpy) (3.0.9)\n",
      "Requirement already satisfied: packaging>=20.0 in /Users/chase/opt/miniconda3/lib/python3.9/site-packages (from matplotlib>=3.1.3->mealpy) (21.3)\n",
      "Requirement already satisfied: fonttools>=4.22.0 in /Users/chase/opt/miniconda3/lib/python3.9/site-packages (from matplotlib>=3.1.3->mealpy) (4.25.0)\n",
      "Requirement already satisfied: kiwisolver>=1.0.1 in /Users/chase/opt/miniconda3/lib/python3.9/site-packages (from matplotlib>=3.1.3->mealpy) (1.4.2)\n",
      "Requirement already satisfied: pillow>=6.2.0 in /Users/chase/opt/miniconda3/lib/python3.9/site-packages (from matplotlib>=3.1.3->mealpy) (9.2.0)\n",
      "Requirement already satisfied: six>=1.5 in /Users/chase/opt/miniconda3/lib/python3.9/site-packages (from python-dateutil>=2.7->matplotlib>=3.1.3->mealpy) (1.16.0)\n"
     ]
    }
   ],
   "source": [
    "!pip install mealpy"
   ]
  },
  {
   "cell_type": "code",
   "execution_count": 2,
   "metadata": {
    "colab": {
     "base_uri": "https://localhost:8080/"
    },
    "id": "YeXwzw2wfjng",
    "outputId": "b35ce989-d818-405a-c740-87ba0c282dbe"
   },
   "outputs": [
    {
     "data": {
      "text/plain": [
       "array([[ 0.00000000e+00, -1.35980713e+00, -7.27811733e-02, ...,\n",
       "        -2.10530535e-02,  1.49620000e+02,  0.00000000e+00],\n",
       "       [ 0.00000000e+00,  1.19185711e+00,  2.66150712e-01, ...,\n",
       "         1.47241692e-02,  2.69000000e+00,  0.00000000e+00],\n",
       "       [ 1.00000000e+00, -1.35835406e+00, -1.34016307e+00, ...,\n",
       "        -5.97518406e-02,  3.78660000e+02,  0.00000000e+00],\n",
       "       ...,\n",
       "       [ 1.72788000e+05,  1.91956501e+00, -3.01253846e-01, ...,\n",
       "        -2.65608286e-02,  6.78800000e+01,  0.00000000e+00],\n",
       "       [ 1.72788000e+05, -2.40440050e-01,  5.30482513e-01, ...,\n",
       "         1.04532821e-01,  1.00000000e+01,  0.00000000e+00],\n",
       "       [ 1.72792000e+05, -5.33412522e-01, -1.89733337e-01, ...,\n",
       "         1.36489143e-02,  2.17000000e+02,  0.00000000e+00]])"
      ]
     },
     "execution_count": 2,
     "metadata": {},
     "output_type": "execute_result"
    }
   ],
   "source": [
    "import pandas as pd\n",
    "\n",
    "#from google.colab import drive\n",
    "#drive.mount('/content/drive')\n",
    "#!unzip /content/drive/MyDrive/archive.zip creditcard.csv\n",
    "\n",
    "dataset = pd.read_csv(\"data/creditcard.csv\").to_numpy()\n",
    "\n",
    "# sort by transaction time (first col, seconds since first transaction)\n",
    "dataset[dataset[:, 0].argsort()]\n",
    "dataset"
   ]
  },
  {
   "cell_type": "code",
   "execution_count": 3,
   "metadata": {
    "colab": {
     "base_uri": "https://localhost:8080/"
    },
    "id": "vZKQbmaGY4ko",
    "outputId": "102f45fd-57fa-4a7d-d72d-c0b5ef2864b5"
   },
   "outputs": [],
   "source": [
    "# !/usr/bin/env python\n",
    "# Created by \"Thieu\" at 23:58, 14/12/2021 ----------%\n",
    "#       Email: nguyenthieu2102@gmail.com            %\n",
    "#       Github: https://github.com/thieu1995        %\n",
    "# --------------------------------------------------%\n",
    "\n",
    "# https://machinelearningmastery.com/display-deep-learning-model-training-history-in-keras/\n",
    "\n",
    "import pandas as pd\n",
    "import numpy as np\n",
    "from keras.models import Sequential\n",
    "from keras.layers import Dense\n",
    "from sklearn import metrics\n",
    "from mealpy.swarm_based import PSO\n",
    "from mealpy.multitask import Multitask\n",
    "import time\n",
    "\n",
    "\n",
    "class HybridMlp:\n",
    "\n",
    "    def __init__(self, dataset, n_hidden_nodes, epoch, pop_size):\n",
    "        self.X_train, self.y_train, self.X_test, self.y_test = dataset\n",
    "        self.n_hidden_nodes = n_hidden_nodes\n",
    "        self.epoch = epoch\n",
    "        self.pop_size = pop_size\n",
    "\n",
    "        self.n_inputs = self.X_train.shape[1]\n",
    "        self.model, self.problem_size, self.n_dims, self.problem = None, None, None, None\n",
    "        self.optimizer, self.solution, self.best_fit = None, None, None\n",
    "\n",
    "    def create_network(self):\n",
    "        # create model\n",
    "        model = Sequential()\n",
    "        model.add(Dense(self.n_hidden_nodes[0], input_dim=self.n_inputs, activation='relu'))\n",
    "        model.add(Dense(self.n_hidden_nodes[1], activation='relu'))\n",
    "        model.add(Dense(1, activation='sigmoid'))\n",
    "        # Compile model\n",
    "        # model.compile(loss='binary_crossentropy', optimizer='adam', metrics=['accuracy'])\n",
    "        self.model = model\n",
    "        self.problem_size = self.n_dims = np.sum([np.size(w) for w in self.model.get_weights()])\n",
    "\n",
    "    def create_problem(self):\n",
    "        self.problem = {\n",
    "            \"fit_func\": self.fitness_function,\n",
    "            \"lb\": [-1, ] * self.n_dims,\n",
    "            \"ub\": [1, ] * self.n_dims,\n",
    "            \"minmax\": \"max\",\n",
    "            \"log_to\": None,\n",
    "            \"save_population\": True\n",
    "        }\n",
    "\n",
    "    def decode_solution(self, solution):\n",
    "        # solution: is a vector.\n",
    "        # solution = [w11, w21, w31, w12, w22, w32, b1, b2, wh11, wh21, wh12, wh22, wh13, wh23, bo1, bo2, bo3 ]\n",
    "        # number of weights = n_inputs * n_hidden_nodes + n_hidden_nodes + n_hidden_nodes * n_outputs + n_outputs\n",
    "        # we decode the solution into the neural network weights\n",
    "        # we return the model with the new weight (weight from solution)\n",
    "        weight_sizes = [(w.shape, np.size(w)) for w in self.model.get_weights()]\n",
    "        # ( (3, 5),  15 )\n",
    "        weights = []\n",
    "        cut_point = 0\n",
    "        for ws in weight_sizes:\n",
    "            temp = np.reshape(solution[cut_point: cut_point + ws[1]], ws[0])\n",
    "            # [0: 15], (3, 5),\n",
    "            weights.append(temp)\n",
    "            cut_point += ws[1]\n",
    "        self.model.set_weights(weights)\n",
    "\n",
    "    def prediction(self, solution, x_data):\n",
    "        self.decode_solution(solution)\n",
    "        return self.model.predict(x_data)\n",
    "\n",
    "    def training(self):\n",
    "        self.create_network()\n",
    "        self.create_problem()\n",
    "        self.optimizer = PSO.OriginalPSO(self.epoch, self.pop_size)\n",
    "        self.solution, self.best_fit = self.optimizer.solve(self.problem, mode=\"thread\")\n",
    "\n",
    "    def fitness_function(self, solution):  # Used in training process\n",
    "        # Assumption that we have 3 layer , 1 input layer, 1 hidden layer and 1 output layer\n",
    "        # number of nodes are 3, 2, 3\n",
    "        # solution = [w11, w21, w31, w12, w22, w32, b1, b2, wh11, wh21, wh12, wh22, wh13, wh23, bo1, bo2, bo3 ]\n",
    "        self.decode_solution(solution)\n",
    "        yhat = self.model.predict(self.X_train)\n",
    "        yhat = np.argmax(yhat, axis=-1).astype('int')\n",
    "        acc = metrics.fbeta_score(self.y_train, yhat, beta=3)\n",
    "        return acc"
   ]
  },
  {
   "cell_type": "code",
   "execution_count": null,
   "metadata": {
    "colab": {
     "base_uri": "https://localhost:8080/"
    },
    "id": "vZKQbmaGY4ko",
    "outputId": "102f45fd-57fa-4a7d-d72d-c0b5ef2864b5"
   },
   "outputs": [
    {
     "name": "stderr",
     "output_type": "stream",
     "text": [
      "2022-09-27 12:42:15.901522: I tensorflow/core/platform/cpu_feature_guard.cc:142] This TensorFlow binary is optimized with oneAPI Deep Neural Network Library (oneDNN) to use the following CPU instructions in performance-critical operations:  SSE4.1 SSE4.2 AVX AVX2 FMA\n",
      "To enable them in other operations, rebuild TensorFlow with the appropriate compiler flags.\n",
      "2022-09-27 12:42:16.102083: I tensorflow/compiler/mlir/mlir_graph_optimization_pass.cc:116] None of the MLIR optimization passes are enabled (registered 2)\n"
     ]
    }
   ],
   "source": [
    "t1 = time.time()\n",
    "\n",
    "# split into input (X) and output (Y) variables\n",
    "X = dataset[:, 0:30]\n",
    "Y = dataset[:, -1]\n",
    "\n",
    "# split into CV folds\n",
    "cut = int(0.6 * len(X))  # 60% for training, 40% for testing\n",
    "X_train, X_test = X[0: cut], X[cut:]\n",
    "y_train, y_test = Y[0: cut], Y[cut:]\n",
    "data = [X_train, y_train, X_test, y_test]\n",
    "\n",
    "n_hidden_nodes = [10, 5]\n",
    "epoch = 10\n",
    "pop_size = 10\n",
    "\n",
    "# define model\n",
    "model = HybridMlp(data, n_hidden_nodes, epoch, pop_size)\n",
    "# fit model\n",
    "model.training()\n",
    "\n",
    "t2 = time.time()\n",
    "print(t2-t1)\n",
    "# access to the best model - best set of weights - the final weights of neural network\n",
    "# model.solution"
   ]
  },
  {
   "cell_type": "code",
   "execution_count": null,
   "metadata": {
    "colab": {
     "base_uri": "https://localhost:8080/"
    },
    "id": "vZKQbmaGY4ko",
    "outputId": "102f45fd-57fa-4a7d-d72d-c0b5ef2864b5"
   },
   "outputs": [],
   "source": [
    "# evaluate on test set\n",
    "yhat = model.prediction(solution=model.solution, x_data=X_test)\n",
    "yhat = np.argmax(yhat, axis=-1).astype('int')\n",
    "print('Accuracy: %.8f' % metrics.accuracy_score(y_test, yhat))\n",
    "print('Precision: %.8f' % metrics.precision_score(y_test, yhat))\n",
    "print('Recall: %.8f' % metrics.recall_score(y_test, yhat))"
   ]
  },
  {
   "cell_type": "code",
   "execution_count": null,
   "metadata": {},
   "outputs": [],
   "source": [
    "TP = np.logical_xor(y_test, yhat) \n",
    "sum(TP)"
   ]
  }
 ],
 "metadata": {
  "colab": {
   "authorship_tag": "ABX9TyMgO3Fajf5gKYPQPDNo3osY",
   "collapsed_sections": [],
   "include_colab_link": true,
   "mount_file_id": "1PiSwHcHAaOUkIEO_VPF8DgrRtoz42faI",
   "name": "keras_pso.ipynb",
   "provenance": []
  },
  "gpuClass": "standard",
  "kernelspec": {
   "display_name": "Python 3 (ipykernel)",
   "language": "python",
   "name": "python3"
  },
  "language_info": {
   "codemirror_mode": {
    "name": "ipython",
    "version": 3
   },
   "file_extension": ".py",
   "mimetype": "text/x-python",
   "name": "python",
   "nbconvert_exporter": "python",
   "pygments_lexer": "ipython3",
   "version": "3.9.12"
  }
 },
 "nbformat": 4,
 "nbformat_minor": 1
}
